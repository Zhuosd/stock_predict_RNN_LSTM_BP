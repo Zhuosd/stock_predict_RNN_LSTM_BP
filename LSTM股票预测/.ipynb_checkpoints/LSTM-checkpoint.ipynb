{
 "cells": [
  {
   "cell_type": "code",
   "execution_count": 1,
   "metadata": {},
   "outputs": [],
   "source": [
    "import numpy as np\n",
    "import matplotlib.pyplot as plt\n",
    "import pandas as pd\n",
    "from sklearn import preprocessing\n",
    "from sklearn.metrics import mean_squared_error\n",
    "from math import sqrt\n",
    "from keras.models import Sequential\n",
    "from keras.layers.core import Dense, Dropout, Activation\n",
    "from keras.layers.recurrent import LSTM\n",
    "#倒入一些必要的库"
   ]
  },
  {
   "cell_type": "code",
   "execution_count": 2,
   "metadata": {},
   "outputs": [],
   "source": [
    "df1 = pd.read_excel('data.xlsx')"
   ]
  },
  {
   "cell_type": "code",
   "execution_count": 3,
   "metadata": {},
   "outputs": [],
   "source": [
    "df1 = df1.iloc[:,1:]"
   ]
  },
  {
   "cell_type": "code",
   "execution_count": 4,
   "metadata": {},
   "outputs": [
    {
     "data": {
      "text/html": [
       "<div>\n",
       "<style scoped>\n",
       "    .dataframe tbody tr th:only-of-type {\n",
       "        vertical-align: middle;\n",
       "    }\n",
       "\n",
       "    .dataframe tbody tr th {\n",
       "        vertical-align: top;\n",
       "    }\n",
       "\n",
       "    .dataframe thead th {\n",
       "        text-align: right;\n",
       "    }\n",
       "</style>\n",
       "<table border=\"1\" class=\"dataframe\">\n",
       "  <thead>\n",
       "    <tr style=\"text-align: right;\">\n",
       "      <th></th>\n",
       "      <th>open</th>\n",
       "      <th>high</th>\n",
       "      <th>low</th>\n",
       "      <th>close</th>\n",
       "      <th>volume</th>\n",
       "      <th>amt</th>\n",
       "    </tr>\n",
       "  </thead>\n",
       "  <tbody>\n",
       "    <tr>\n",
       "      <th>0</th>\n",
       "      <td>994.769</td>\n",
       "      <td>1006.463</td>\n",
       "      <td>943.439</td>\n",
       "      <td>954.879</td>\n",
       "      <td>15259936633</td>\n",
       "      <td>91007761191</td>\n",
       "    </tr>\n",
       "    <tr>\n",
       "      <th>1</th>\n",
       "      <td>953.330</td>\n",
       "      <td>1059.483</td>\n",
       "      <td>952.741</td>\n",
       "      <td>1039.989</td>\n",
       "      <td>17878439347</td>\n",
       "      <td>108735682753</td>\n",
       "    </tr>\n",
       "    <tr>\n",
       "      <th>2</th>\n",
       "      <td>1039.351</td>\n",
       "      <td>1054.640</td>\n",
       "      <td>928.335</td>\n",
       "      <td>942.203</td>\n",
       "      <td>23759256380</td>\n",
       "      <td>153976854038</td>\n",
       "    </tr>\n",
       "    <tr>\n",
       "      <th>3</th>\n",
       "      <td>941.431</td>\n",
       "      <td>1008.735</td>\n",
       "      <td>914.829</td>\n",
       "      <td>932.395</td>\n",
       "      <td>25952512706</td>\n",
       "      <td>161126256107</td>\n",
       "    </tr>\n",
       "    <tr>\n",
       "      <th>4</th>\n",
       "      <td>934.650</td>\n",
       "      <td>937.390</td>\n",
       "      <td>842.102</td>\n",
       "      <td>855.946</td>\n",
       "      <td>14190800200</td>\n",
       "      <td>77564121441</td>\n",
       "    </tr>\n",
       "  </tbody>\n",
       "</table>\n",
       "</div>"
      ],
      "text/plain": [
       "       open      high      low     close       volume           amt\n",
       "0   994.769  1006.463  943.439   954.879  15259936633   91007761191\n",
       "1   953.330  1059.483  952.741  1039.989  17878439347  108735682753\n",
       "2  1039.351  1054.640  928.335   942.203  23759256380  153976854038\n",
       "3   941.431  1008.735  914.829   932.395  25952512706  161126256107\n",
       "4   934.650   937.390  842.102   855.946  14190800200   77564121441"
      ]
     },
     "execution_count": 4,
     "metadata": {},
     "output_type": "execute_result"
    }
   ],
   "source": [
    "df1.head()"
   ]
  },
  {
   "cell_type": "code",
   "execution_count": 5,
   "metadata": {
    "scrolled": true
   },
   "outputs": [],
   "source": [
    "feanum=6#一共有多少特征\n",
    "window=4#时间窗设置"
   ]
  },
  {
   "cell_type": "code",
   "execution_count": 6,
   "metadata": {},
   "outputs": [
    {
     "data": {
      "text/html": [
       "<div>\n",
       "<style scoped>\n",
       "    .dataframe tbody tr th:only-of-type {\n",
       "        vertical-align: middle;\n",
       "    }\n",
       "\n",
       "    .dataframe tbody tr th {\n",
       "        vertical-align: top;\n",
       "    }\n",
       "\n",
       "    .dataframe thead th {\n",
       "        text-align: right;\n",
       "    }\n",
       "</style>\n",
       "<table border=\"1\" class=\"dataframe\">\n",
       "  <thead>\n",
       "    <tr style=\"text-align: right;\">\n",
       "      <th></th>\n",
       "      <th>open</th>\n",
       "      <th>high</th>\n",
       "      <th>low</th>\n",
       "      <th>close</th>\n",
       "      <th>volume</th>\n",
       "      <th>amt</th>\n",
       "    </tr>\n",
       "  </thead>\n",
       "  <tbody>\n",
       "    <tr>\n",
       "      <th>179</th>\n",
       "      <td>0.614740</td>\n",
       "      <td>0.641641</td>\n",
       "      <td>0.673721</td>\n",
       "      <td>0.670579</td>\n",
       "      <td>0.251150</td>\n",
       "      <td>0.231131</td>\n",
       "    </tr>\n",
       "    <tr>\n",
       "      <th>180</th>\n",
       "      <td>0.673699</td>\n",
       "      <td>0.666689</td>\n",
       "      <td>0.709778</td>\n",
       "      <td>0.651400</td>\n",
       "      <td>0.213323</td>\n",
       "      <td>0.223610</td>\n",
       "    </tr>\n",
       "    <tr>\n",
       "      <th>181</th>\n",
       "      <td>0.574394</td>\n",
       "      <td>0.658883</td>\n",
       "      <td>0.635207</td>\n",
       "      <td>0.638187</td>\n",
       "      <td>0.373279</td>\n",
       "      <td>0.379430</td>\n",
       "    </tr>\n",
       "    <tr>\n",
       "      <th>182</th>\n",
       "      <td>0.642242</td>\n",
       "      <td>0.665159</td>\n",
       "      <td>0.604542</td>\n",
       "      <td>0.585650</td>\n",
       "      <td>0.375232</td>\n",
       "      <td>0.379964</td>\n",
       "    </tr>\n",
       "    <tr>\n",
       "      <th>183</th>\n",
       "      <td>0.583137</td>\n",
       "      <td>0.606388</td>\n",
       "      <td>0.637990</td>\n",
       "      <td>0.632503</td>\n",
       "      <td>0.223216</td>\n",
       "      <td>0.232232</td>\n",
       "    </tr>\n",
       "  </tbody>\n",
       "</table>\n",
       "</div>"
      ],
      "text/plain": [
       "         open      high       low     close    volume       amt\n",
       "179  0.614740  0.641641  0.673721  0.670579  0.251150  0.231131\n",
       "180  0.673699  0.666689  0.709778  0.651400  0.213323  0.223610\n",
       "181  0.574394  0.658883  0.635207  0.638187  0.373279  0.379430\n",
       "182  0.642242  0.665159  0.604542  0.585650  0.375232  0.379964\n",
       "183  0.583137  0.606388  0.637990  0.632503  0.223216  0.232232"
      ]
     },
     "execution_count": 6,
     "metadata": {},
     "output_type": "execute_result"
    }
   ],
   "source": [
    "from sklearn import preprocessing#进行归一化操作\n",
    "min_max_scaler = preprocessing.MinMaxScaler()\n",
    "df0=min_max_scaler.fit_transform(df1)\n",
    "df = pd.DataFrame(df0, columns=df1.columns)\n",
    "df.tail()"
   ]
  },
  {
   "cell_type": "code",
   "execution_count": 7,
   "metadata": {},
   "outputs": [
    {
     "data": {
      "text/html": [
       "<div>\n",
       "<style scoped>\n",
       "    .dataframe tbody tr th:only-of-type {\n",
       "        vertical-align: middle;\n",
       "    }\n",
       "\n",
       "    .dataframe tbody tr th {\n",
       "        vertical-align: top;\n",
       "    }\n",
       "\n",
       "    .dataframe thead th {\n",
       "        text-align: right;\n",
       "    }\n",
       "</style>\n",
       "<table border=\"1\" class=\"dataframe\">\n",
       "  <thead>\n",
       "    <tr style=\"text-align: right;\">\n",
       "      <th></th>\n",
       "      <th>open</th>\n",
       "      <th>high</th>\n",
       "      <th>low</th>\n",
       "      <th>close</th>\n",
       "      <th>volume</th>\n",
       "      <th>amt</th>\n",
       "    </tr>\n",
       "  </thead>\n",
       "  <tbody>\n",
       "    <tr>\n",
       "      <th>179</th>\n",
       "      <td>0.614740</td>\n",
       "      <td>0.641641</td>\n",
       "      <td>0.673721</td>\n",
       "      <td>0.670579</td>\n",
       "      <td>0.251150</td>\n",
       "      <td>0.231131</td>\n",
       "    </tr>\n",
       "    <tr>\n",
       "      <th>180</th>\n",
       "      <td>0.673699</td>\n",
       "      <td>0.666689</td>\n",
       "      <td>0.709778</td>\n",
       "      <td>0.651400</td>\n",
       "      <td>0.213323</td>\n",
       "      <td>0.223610</td>\n",
       "    </tr>\n",
       "    <tr>\n",
       "      <th>181</th>\n",
       "      <td>0.574394</td>\n",
       "      <td>0.658883</td>\n",
       "      <td>0.635207</td>\n",
       "      <td>0.638187</td>\n",
       "      <td>0.373279</td>\n",
       "      <td>0.379430</td>\n",
       "    </tr>\n",
       "    <tr>\n",
       "      <th>182</th>\n",
       "      <td>0.642242</td>\n",
       "      <td>0.665159</td>\n",
       "      <td>0.604542</td>\n",
       "      <td>0.585650</td>\n",
       "      <td>0.375232</td>\n",
       "      <td>0.379964</td>\n",
       "    </tr>\n",
       "    <tr>\n",
       "      <th>183</th>\n",
       "      <td>0.583137</td>\n",
       "      <td>0.606388</td>\n",
       "      <td>0.637990</td>\n",
       "      <td>0.632503</td>\n",
       "      <td>0.223216</td>\n",
       "      <td>0.232232</td>\n",
       "    </tr>\n",
       "  </tbody>\n",
       "</table>\n",
       "</div>"
      ],
      "text/plain": [
       "         open      high       low     close    volume       amt\n",
       "179  0.614740  0.641641  0.673721  0.670579  0.251150  0.231131\n",
       "180  0.673699  0.666689  0.709778  0.651400  0.213323  0.223610\n",
       "181  0.574394  0.658883  0.635207  0.638187  0.373279  0.379430\n",
       "182  0.642242  0.665159  0.604542  0.585650  0.375232  0.379964\n",
       "183  0.583137  0.606388  0.637990  0.632503  0.223216  0.232232"
      ]
     },
     "execution_count": 7,
     "metadata": {},
     "output_type": "execute_result"
    }
   ],
   "source": [
    "#技术问题 重新对列做一个排序\n",
    "order = ['open', 'high', 'low', 'close','volume', 'amt']\n",
    "df = df[order]\n",
    "df.tail()"
   ]
  },
  {
   "cell_type": "code",
   "execution_count": 8,
   "metadata": {},
   "outputs": [],
   "source": [
    "#这一部分在处理数据 将原始数据改造为LSTM网络的输入\n",
    "stock=df\n",
    "seq_len=window\n",
    "amount_of_features = len(stock.columns)#有几列\n",
    "data = stock.values #pd.DataFrame(stock) 表格转化为矩阵\n",
    "sequence_length = seq_len + 1#序列长度+1\n",
    "result = []\n",
    "for index in range(len(data) - sequence_length):#循环 数据长度-时间窗长度 次\n",
    "    result.append(data[index: index + sequence_length])#第i行到i+5\n",
    "result = np.array(result)#得到样本，样本形式为 window*feanum\n",
    "cut=10#分训练集测试集 最后cut个样本为测试集\n",
    "train = result[:-cut, :]\n",
    "x_train = train[:, :-1]\n",
    "y_train = train[:, -1][:,-1]\n",
    "x_test = result[-cut:, :-1]\n",
    "y_test = result[-cut:, -1][:,-1]\n",
    "X_train = np.reshape(x_train, (x_train.shape[0], x_train.shape[1], amount_of_features))\n",
    "X_test = np.reshape(x_test, (x_test.shape[0], x_test.shape[1], amount_of_features))  "
   ]
  },
  {
   "cell_type": "code",
   "execution_count": 9,
   "metadata": {},
   "outputs": [
    {
     "name": "stdout",
     "output_type": "stream",
     "text": [
      "X_train (169, 4, 6)\n",
      "y_train (169,)\n",
      "X_test (10, 4, 6)\n",
      "y_test (10,)\n"
     ]
    }
   ],
   "source": [
    "#展示下训练集测试集的形状 看有没有问题\n",
    "print(\"X_train\", X_train.shape)\n",
    "print(\"y_train\", y_train.shape)\n",
    "print(\"X_test\", X_test.shape)\n",
    "print(\"y_test\", y_test.shape)"
   ]
  },
  {
   "cell_type": "code",
   "execution_count": 10,
   "metadata": {},
   "outputs": [
    {
     "name": "stdout",
     "output_type": "stream",
     "text": [
      "Epoch 1/20\n",
      "6/6 [==============================] - 0s 6ms/step - loss: 0.0384 - accuracy: 0.0059\n",
      "Epoch 2/20\n",
      "6/6 [==============================] - 0s 6ms/step - loss: 0.0201 - accuracy: 0.0059\n",
      "Epoch 3/20\n",
      "6/6 [==============================] - 0s 6ms/step - loss: 0.0203 - accuracy: 0.0059\n",
      "Epoch 4/20\n",
      "6/6 [==============================] - 0s 6ms/step - loss: 0.0182 - accuracy: 0.0059\n",
      "Epoch 5/20\n",
      "6/6 [==============================] - 0s 5ms/step - loss: 0.0162 - accuracy: 0.0059\n",
      "Epoch 6/20\n",
      "6/6 [==============================] - 0s 5ms/step - loss: 0.0158 - accuracy: 0.0059\n",
      "Epoch 7/20\n",
      "6/6 [==============================] - 0s 4ms/step - loss: 0.0143 - accuracy: 0.0059\n",
      "Epoch 8/20\n",
      "6/6 [==============================] - 0s 4ms/step - loss: 0.0136 - accuracy: 0.0059\n",
      "Epoch 9/20\n",
      "6/6 [==============================] - 0s 4ms/step - loss: 0.0123 - accuracy: 0.0059\n",
      "Epoch 10/20\n",
      "6/6 [==============================] - 0s 4ms/step - loss: 0.0115 - accuracy: 0.0059\n",
      "Epoch 11/20\n",
      "6/6 [==============================] - 0s 4ms/step - loss: 0.0114 - accuracy: 0.0118\n",
      "Epoch 12/20\n",
      "6/6 [==============================] - 0s 4ms/step - loss: 0.0110 - accuracy: 0.0118\n",
      "Epoch 13/20\n",
      "6/6 [==============================] - 0s 4ms/step - loss: 0.0110 - accuracy: 0.0118\n",
      "Epoch 14/20\n",
      "6/6 [==============================] - 0s 4ms/step - loss: 0.0109 - accuracy: 0.0059\n",
      "Epoch 15/20\n",
      "6/6 [==============================] - 0s 4ms/step - loss: 0.0106 - accuracy: 0.0059\n",
      "Epoch 16/20\n",
      "6/6 [==============================] - 0s 4ms/step - loss: 0.0104 - accuracy: 0.0118\n",
      "Epoch 17/20\n",
      "6/6 [==============================] - 0s 4ms/step - loss: 0.0105 - accuracy: 0.0118\n",
      "Epoch 18/20\n",
      "6/6 [==============================] - 0s 4ms/step - loss: 0.0102 - accuracy: 0.0118\n",
      "Epoch 19/20\n",
      "6/6 [==============================] - 0s 4ms/step - loss: 0.0106 - accuracy: 0.0059\n",
      "Epoch 20/20\n",
      "6/6 [==============================] - 0s 4ms/step - loss: 0.0105 - accuracy: 0.0118\n"
     ]
    },
    {
     "data": {
      "text/plain": [
       "<tensorflow.python.keras.callbacks.History at 0x1dbf4ae9bc8>"
      ]
     },
     "execution_count": 10,
     "metadata": {},
     "output_type": "execute_result"
    }
   ],
   "source": [
    "#建立、训练模型过程\n",
    "d = 0.0001\n",
    "model = Sequential()#建立层次模型\n",
    "model.add(LSTM(64, input_shape=(window, feanum), return_sequences=True))#建立LSTM层\n",
    "model.add(Dropout(d))#建立的遗忘层\n",
    "model.add(LSTM(16, input_shape=(window, feanum), return_sequences=False))#建立LSTM层\n",
    "model.add(Dropout(d))#建立的遗忘层\n",
    "model.add(Dense(4,activation='relu'))   #建立全连接层     \n",
    "model.add(Dense(1,activation='relu'))\n",
    "model.compile(loss='mse',optimizer='adam',metrics=['accuracy'])\n",
    "model.fit(X_train, y_train, batch_size=32, epochs=20) #训练模型nb_epoch次"
   ]
  },
  {
   "cell_type": "code",
   "execution_count": 11,
   "metadata": {},
   "outputs": [
    {
     "name": "stdout",
     "output_type": "stream",
     "text": [
      "Model: \"sequential\"\n",
      "_________________________________________________________________\n",
      "Layer (type)                 Output Shape              Param #   \n",
      "=================================================================\n",
      "lstm (LSTM)                  (None, 4, 64)             18176     \n",
      "_________________________________________________________________\n",
      "dropout (Dropout)            (None, 4, 64)             0         \n",
      "_________________________________________________________________\n",
      "lstm_1 (LSTM)                (None, 16)                5184      \n",
      "_________________________________________________________________\n",
      "dropout_1 (Dropout)          (None, 16)                0         \n",
      "_________________________________________________________________\n",
      "dense (Dense)                (None, 4)                 68        \n",
      "_________________________________________________________________\n",
      "dense_1 (Dense)              (None, 1)                 5         \n",
      "=================================================================\n",
      "Total params: 23,433\n",
      "Trainable params: 23,433\n",
      "Non-trainable params: 0\n",
      "_________________________________________________________________\n"
     ]
    }
   ],
   "source": [
    "#总结模型\n",
    "model.summary()"
   ]
  },
  {
   "cell_type": "code",
   "execution_count": 12,
   "metadata": {},
   "outputs": [],
   "source": [
    "#在训练集上的拟合结果\n",
    "y_train_predict=model.predict(X_train)[:,0]\n",
    "y_train=y_train"
   ]
  },
  {
   "cell_type": "code",
   "execution_count": 13,
   "metadata": {},
   "outputs": [
    {
     "data": {
      "text/plain": [
       "Text(0, 0.5, 'amt值')"
      ]
     },
     "execution_count": 13,
     "metadata": {},
     "output_type": "execute_result"
    },
    {
     "data": {
      "image/png": "[encoded data removed]",
      "text/plain": [
       "<Figure size 864x432 with 1 Axes>"
      ]
     },
     "metadata": {
      "needs_background": "light"
     },
     "output_type": "display_data"
    }
   ],
   "source": [
    "#中文乱码的处理\n",
    "plt.rcParams['font.sans-serif'] =['Microsoft YaHei']\n",
    "plt.rcParams['axes.unicode_minus'] = False\n",
    "draw=pd.concat([pd.DataFrame(y_train),pd.DataFrame(y_train_predict)],axis=1)\n",
    "draw.iloc[1:125,0].plot(figsize=(12,6),fontsize='20')\n",
    "draw.iloc[1:125,1].plot(figsize=(12,6),fontsize='20')\n",
    "plt.legend(('real', 'predict'),loc='upper right',fontsize='20')\n",
    "plt.title(\"Train Data\",fontsize='30') #添加标题\n",
    "plt.xlabel(\"数据序号\",fontsize='20')\n",
    "plt.ylabel(\"amt值\",fontsize='20')\n",
    "#展示在训练集上的表现 "
   ]
  },
  {
   "cell_type": "code",
   "execution_count": 14,
   "metadata": {},
   "outputs": [],
   "source": [
    "#在测试集上的预测\n",
    "y_test_predict=model.predict(X_test)[:,0]\n",
    "y_test=y_test"
   ]
  },
  {
   "cell_type": "code",
   "execution_count": 15,
   "metadata": {},
   "outputs": [
    {
     "data": {
      "text/plain": [
       "Text(0, 0.5, 'amt值')"
      ]
     },
     "execution_count": 15,
     "metadata": {},
     "output_type": "execute_result"
    },
    {
     "data": {
      "image/png": "[encoded data removed]",
      "text/plain": [
       "<Figure size 864x432 with 1 Axes>"
      ]
     },
     "metadata": {
      "needs_background": "light"
     },
     "output_type": "display_data"
    }
   ],
   "source": [
    "draw=pd.concat([pd.DataFrame(y_test),pd.DataFrame(y_test_predict)],axis=1);\n",
    "draw.iloc[:,0].plot(figsize=(12,6),fontsize=\"20\")\n",
    "draw.iloc[:,1].plot(figsize=(12,6),fontsize=\"20\")\n",
    "plt.legend(('real', 'predict'),loc='upper right',fontsize='20')\n",
    "plt.title(\"Test Data\",fontsize='20') #添加标题\n",
    "plt.xlabel(\"数据序号\",fontsize='20')\n",
    "plt.ylabel(\"amt值\",fontsize='20')\n",
    "#展示在测试集上的表现 "
   ]
  },
  {
   "cell_type": "code",
   "execution_count": 16,
   "metadata": {},
   "outputs": [
    {
     "name": "stdout",
     "output_type": "stream",
     "text": [
      "训练集上的MAE/MSE/MAPE\n",
      "0.053363776266323305\n",
      "0.009953182809492573\n",
      "36.405712285162764\n",
      "测试集上的MAE/MSE/MAPE\n",
      "0.07772881091570125\n",
      "0.010423897929102907\n",
      "40.62163739435432\n",
      "预测涨跌正确: 0.3333333333333333\n"
     ]
    }
   ],
   "source": [
    "#输出结果\n",
    "from sklearn.metrics import mean_absolute_error\n",
    "from sklearn.metrics import mean_squared_error\n",
    "import math\n",
    "def mape(y_true, y_pred):\n",
    "    return np.mean(np.abs((y_pred - y_true) / y_true)) * 100\n",
    "\n",
    "print('训练集上的MAE/MSE/MAPE')\n",
    "print(mean_absolute_error(y_train_predict, y_train))\n",
    "print(mean_squared_error(y_train_predict, y_train) )\n",
    "print(mape(y_train_predict, y_train) )\n",
    "\n",
    "print('测试集上的MAE/MSE/MAPE')\n",
    "print(mean_absolute_error(y_test_predict, y_test))\n",
    "print(mean_squared_error(y_test_predict, y_test) )\n",
    "print(mape(y_test_predict, y_test) )\n",
    "y_var_test=y_test[1:]-y_test[:len(y_test)-1]\n",
    "y_var_predict=y_test_predict[1:]-y_test_predict[:len(y_test_predict)-1]\n",
    "txt=np.zeros(len(y_var_test))\n",
    "for i in range(len(y_var_test-1)):\n",
    "    txt[i]=np.sign(y_var_test[i])==np.sign(y_var_predict[i])\n",
    "result=sum(txt)/len(txt)\n",
    "print('预测涨跌正确:',result)"
   ]
  },
  {
   "cell_type": "code",
   "execution_count": null,
   "metadata": {},
   "outputs": [],
   "source": []
  },
  {
   "cell_type": "code",
   "execution_count": null,
   "metadata": {},
   "outputs": [],
   "source": []
  }
 ],
 "metadata": {
  "anaconda-cloud": {},
  "kernelspec": {
   "display_name": "Python 3",
   "language": "python",
   "name": "python3"
  },
  "language_info": {
   "codemirror_mode": {
    "name": "ipython",
    "version": 3
   },
   "file_extension": ".py",
   "mimetype": "text/x-python",
   "name": "python",
   "nbconvert_exporter": "python",
   "pygments_lexer": "ipython3",
   "version": "3.7.4"
  }
 },
 "nbformat": 4,
 "nbformat_minor": 4
}
